{
 "cells": [
  {
   "cell_type": "markdown",
   "metadata": {
    "pycharm": {
     "name": "#%% md\n"
    }
   },
   "source": [
    "# Midterm"
   ]
  },
  {
   "cell_type": "markdown",
   "metadata": {},
   "source": [
    "I didn't use gradually decreasing step size because gamma will not converge."
   ]
  },
  {
   "cell_type": "code",
   "execution_count": 6,
   "metadata": {},
   "outputs": [
    {
     "name": "stdout",
     "output_type": "stream",
     "text": [
      "European Call Option Price: 3.0531, European Put Option Price: 5.2755\n",
      "Call Delta: 0.4492, Put Delta: -0.5392\n",
      "Call Gamma: 0.0385, Put Gamma: 0.0385\n",
      "Call Vega: 14.6592, Put Vega: 14.6635\n",
      "Call Theta: 3.8054, Put Theta: 2.4956\n",
      "Call Rho: 11.0575, Put Rho: -18.4899\n"
     ]
    }
   ],
   "source": [
    "import numpy as np\n",
    "\n",
    "# Parameters\n",
    "S, K, sigma, r, q, T = 49, 52, 0.27, 0.045, 0.02, 7 / 12.0\n",
    "N = 10000_0000\n",
    "dS, dSigma, dT, dr = 1e-8, 1e-8, 1e-8, 1e-8\n",
    "\n",
    "# Helper function for option pricing\n",
    "def option_price(S, sigma, r, T, z):\n",
    "    S_T = S * np.exp((r - q - 0.5 * sigma ** 2) * T + sigma * np.sqrt(T) * z)\n",
    "    C = np.exp(-r * T) * np.mean(np.maximum(S_T - K, 0))\n",
    "    P = np.exp(-r * T) * np.mean(np.maximum(K - S_T, 0))\n",
    "    return C, P\n",
    "\n",
    "# Monte Carlo simulation\n",
    "np.random.seed(42)\n",
    "np.random.seed(42)\n",
    "z = np.random.normal(0, 1, N)\n",
    "C, P = option_price(S, sigma, r, T, z)\n",
    "\n",
    "# Greeks calculation (except for Gamma)\n",
    "def calc_greek(S, sigma, r, T, z, dParam, param_name):\n",
    "    args = locals().copy()\n",
    "    args[param_name] += dParam\n",
    "    C_up, P_up = option_price(args['S'], args['sigma'], args['r'], args['T'], args['z'])\n",
    "    args[param_name] -= 2 * dParam\n",
    "    C_down, P_down = option_price(args['S'], args['sigma'], args['r'], args['T'], args['z'])\n",
    "    return (C_up - C_down) / (2 * dParam), (P_up - P_down) / (2 * dParam)\n",
    "\n",
    "# Gamma calculation\n",
    "def calc_gamma(S, sigma, r, T, z, dS):\n",
    "    C_up, P_up = option_price(S + dS, sigma, r, T, z)\n",
    "    C_down, P_down = option_price(S - dS, sigma, r, T, z)\n",
    "    return (C_up - 2 * C + C_down) / (dS ** 2), (P_up - 2 * P + P_down) / (dS ** 2)\n",
    "\n",
    "# Calculate Greeks\n",
    "Delta_C, Delta_P = calc_greek(S, sigma, r, T, z, dS, 'S')\n",
    "Gamma_C, Gamma_P = calc_gamma(S, sigma, r, T, z, dS*200000) # need a larger dS for Gamma\n",
    "Vega_C, Vega_P = calc_greek(S, sigma, r, T, z, dSigma, 'sigma')\n",
    "Theta_C, Theta_P = calc_greek(S, sigma, r, T, z, dT, 'T')\n",
    "Rho_C, Rho_P = calc_greek(S, sigma, r, T, z, dr, 'r')\n",
    "\n",
    "# Display results\n",
    "print(f\"European Call Option Price: {C:.4f}, European Put Option Price: {P:.4f}\")\n",
    "print(f\"Call Delta: {Delta_C:.4f}, Put Delta: {Delta_P:.4f}\")\n",
    "print(f\"Call Gamma: {Gamma_C:.4f}, Put Gamma: {Gamma_P:.4f}\")\n",
    "print(f\"Call Vega: {Vega_C:.4f}, Put Vega: {Vega_P:.4f}\")\n",
    "print(f\"Call Theta: {Theta_C:.4f}, Put Theta: {Theta_P:.4f}\")\n",
    "print(f\"Call Rho: {Rho_C:.4f}, Put Rho: {Rho_P:.4f}\")\n"
   ]
  },
  {
   "cell_type": "code",
   "execution_count": 1,
   "metadata": {},
   "outputs": [
    {
     "name": "stdout",
     "output_type": "stream",
     "text": [
      "Implied Volatility: 22.50%\n"
     ]
    }
   ],
   "source": [
    "import numpy as np\n",
    "\n",
    "# Given market price and other parameters\n",
    "market_price = 6.36\n",
    "S, K, r, q, T = 62, 66, 0.045, 0.015, 10 / 12.0\n",
    "N = 10000_000\n",
    "\n",
    "# Helper function for option pricing\n",
    "def option_price(S, sigma, r, T, z):\n",
    "    S_T = S * np.exp((r - q - 0.5 * sigma ** 2) * T + sigma * np.sqrt(T) * z)\n",
    "    P = np.exp(-r * T) * np.mean(np.maximum(K - S_T, 0))\n",
    "    return P\n",
    "\n",
    "# Monte Carlo simulation\n",
    "np.random.seed(42)\n",
    "z = np.random.normal(0, 1, N)\n",
    "\n",
    "# Bisection Method to find Implied Volatility\n",
    "tol = 1e-5\n",
    "max_iter = 100\n",
    "sigma_low, sigma_high = 0.01, 2\n",
    "for i in range(max_iter):\n",
    "    sigma_guess = (sigma_low + sigma_high) / 2\n",
    "    P_guess = option_price(S, sigma_guess, r, T, z)\n",
    "    \n",
    "    if abs(P_guess - market_price) < tol:\n",
    "        break\n",
    "    \n",
    "    if P_guess > market_price:\n",
    "        sigma_high = sigma_guess\n",
    "    else:\n",
    "        sigma_low = sigma_guess\n",
    "\n",
    "implied_volatility = sigma_guess * 100  # Convert to percentage\n",
    "print(f\"Implied Volatility: {implied_volatility:.2f}%\")\n"
   ]
  }
 ],
 "metadata": {
  "kernelspec": {
   "display_name": "PycharmProjects",
   "language": "python",
   "name": "python3"
  },
  "language_info": {
   "codemirror_mode": {
    "name": "ipython",
    "version": 3
   },
   "file_extension": ".py",
   "mimetype": "text/x-python",
   "name": "python",
   "nbconvert_exporter": "python",
   "pygments_lexer": "ipython3",
   "version": "3.10.4"
  },
  "orig_nbformat": 4
 },
 "nbformat": 4,
 "nbformat_minor": 2
}
