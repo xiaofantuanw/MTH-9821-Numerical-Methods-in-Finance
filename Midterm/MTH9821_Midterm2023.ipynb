{
 "cells": [
  {
   "cell_type": "markdown",
   "id": "b08211e1-9502-4f98-b3d1-ce55fea6aa6b",
   "metadata": {},
   "source": [
    "# MTH9821 Midterm 2023 Solutions\n",
    "Please contact me @ nicolas.buchwalder.baruchmfe@gmail.com if you have any questions/remarks"
   ]
  },
  {
   "cell_type": "code",
   "execution_count": 1,
   "id": "5ff260f1-3412-48d2-8c38-a05d0c035a9e",
   "metadata": {},
   "outputs": [
    {
     "name": "stdout",
     "output_type": "stream",
     "text": [
      "\n",
      "\u001b[1m[\u001b[0m\u001b[34;49mnotice\u001b[0m\u001b[1;39;49m]\u001b[0m\u001b[39;49m A new release of pip is available: \u001b[0m\u001b[31;49m23.2.1\u001b[0m\u001b[39;49m -> \u001b[0m\u001b[32;49m23.3\u001b[0m\n",
      "\u001b[1m[\u001b[0m\u001b[34;49mnotice\u001b[0m\u001b[1;39;49m]\u001b[0m\u001b[39;49m To update, run: \u001b[0m\u001b[32;49mpip install --upgrade pip\u001b[0m\n"
     ]
    }
   ],
   "source": [
    "!pip install numba --quiet"
   ]
  },
  {
   "cell_type": "code",
   "execution_count": 2,
   "id": "28afb1a4-1859-45e9-ab5f-9ef015fe209a",
   "metadata": {},
   "outputs": [],
   "source": [
    "from numba import jit\n",
    "\n",
    "import numpy as np\n",
    "import pandas as pd\n",
    "\n",
    "from scipy.stats import norm\n",
    "from functools import partial\n",
    "\n",
    "from scipy.optimize import root_scalar\n",
    "\n",
    "import matplotlib.pyplot as plt"
   ]
  },
  {
   "cell_type": "code",
   "execution_count": 3,
   "id": "d3be4c48-b06f-4fca-abe5-b5d78e614373",
   "metadata": {},
   "outputs": [],
   "source": [
    "round = lambda x: np.round(x, 4)"
   ]
  },
  {
   "cell_type": "code",
   "execution_count": 4,
   "id": "63774a25-5dfc-4166-bc9d-7e6f791efa31",
   "metadata": {},
   "outputs": [],
   "source": [
    "np.random.seed(0)"
   ]
  },
  {
   "cell_type": "markdown",
   "id": "4dac2f4a-5655-4b46-9aef-675c02413d0a",
   "metadata": {},
   "source": [
    "## Analytical formulas"
   ]
  },
  {
   "cell_type": "code",
   "execution_count": 5,
   "id": "f8c37c82-13f2-49fc-831d-76b311f39564",
   "metadata": {},
   "outputs": [],
   "source": [
    "def blackscholes_analytical(S, K, T, sigma, r, q, opt_type='call'):\n",
    "    \"\"\"\n",
    "    Pricing vanilla european options with closed form solution\n",
    "    \"\"\"\n",
    "    d1 = (np.log(S / K) + (r - q + 0.5 * sigma ** 2) * T) / (sigma * np.sqrt(T))\n",
    "    d2 = d1 - sigma * np.sqrt(T)\n",
    "    \n",
    "    if opt_type == 'call':\n",
    "        return round(S * np.exp(-q * T) * norm.cdf(d1) - K * np.exp(-r * T) * norm.cdf(d2))\n",
    "    else:\n",
    "        return round(K * np.exp(-r * T) * norm.cdf(-d2) - S * np.exp(-q * T) * norm.cdf(-d1))"
   ]
  },
  {
   "cell_type": "code",
   "execution_count": 6,
   "id": "463af19d-a42c-4a94-9fd2-eedbad9702a9",
   "metadata": {},
   "outputs": [],
   "source": [
    "def blackscholes_greeks(S, K, T, sigma, r, q, opt_type='call'):\n",
    "    \"\"\"\n",
    "    Computing greeks for vanilla european options with closed form solution\n",
    "    \"\"\"\n",
    "    d1 = (np.log(S / K) + (r - q + 0.5 * sigma ** 2) * T) / (sigma * np.sqrt(T))\n",
    "    d2 = d1 - sigma * np.sqrt(T)\n",
    "    \n",
    "    N_d1 = norm.cdf(d1)\n",
    "    N_d2 = norm.cdf(d2)\n",
    "    n_d1 = norm.pdf(d1)\n",
    "    \n",
    "    exp_qT = np.exp(-q * T)\n",
    "    exp_rT = np.exp(-r * T)\n",
    "    \n",
    "    delta = exp_qT * N_d1 if opt_type == 'call' else -exp_qT * norm.cdf(-d1)\n",
    "    gamma = exp_qT * n_d1 / (S * sigma * np.sqrt(T))\n",
    "    vega = S * np.sqrt(T) * exp_qT * n_d1\n",
    "    theta = -(S * exp_qT * n_d1 * sigma / (2 * np.sqrt(T))) + (r * K * exp_rT * N_d2 - q * S * exp_qT * N_d1) if opt_type == 'call' else -(S * exp_qT * n_d1 * sigma / (2 * np.sqrt(T))) - (r * K * exp_rT * norm.cdf(-d2) - q * S * exp_qT * norm.cdf(-d1))\n",
    "    rho = K * T * exp_rT * N_d2 if opt_type == 'call' else -K * T * exp_rT * norm.cdf(-d2)\n",
    "    \n",
    "    return {'delta': round(delta), 'gamma': round(gamma), 'vega': round(vega), 'theta': round(theta), 'rho': np.round(rho, 4)}"
   ]
  },
  {
   "cell_type": "markdown",
   "id": "64142e46-29ca-4981-9056-cb1be0b9c477",
   "metadata": {},
   "source": [
    "# Problem 1"
   ]
  },
  {
   "cell_type": "code",
   "execution_count": 7,
   "id": "36bfacd8-d27f-4199-a8ba-385ce73ae30f",
   "metadata": {},
   "outputs": [],
   "source": [
    "S, sigma, T, K, r, q = 49, 0.27, 7/12, 52, 0.045, 0.02 "
   ]
  },
  {
   "cell_type": "markdown",
   "id": "9dafa712-f04e-447b-8fe3-e6ac661976fd",
   "metadata": {},
   "source": [
    "## Monte Carlo"
   ]
  },
  {
   "cell_type": "code",
   "execution_count": 8,
   "id": "f9e1fd6e-1486-46bd-8934-640bab84e13b",
   "metadata": {},
   "outputs": [],
   "source": [
    "@jit(nopython=True)\n",
    "def mc_blackscholes(N, T, S, sigma, q, r):\n",
    "    \"\"\"\n",
    "    Monte Carlo simulation of Geometric Brownian motion of underlying in the risk neutral measure\n",
    "    Only works for path independant options: only computing final state for paths\n",
    "    Build on numba jit to accelerate performance\n",
    "    Using antithetic variables to reduce variance\n",
    "    \"\"\"\n",
    "    drift = (r - q - 0.5 * sigma ** 2) * T\n",
    "    diffusion = sigma * np.sqrt(T)\n",
    "    halfZ = np.random.standard_normal(N // 2)\n",
    "    Z = np.concatenate((halfZ, -halfZ))\n",
    "    return S * np.exp(drift + diffusion * Z)"
   ]
  },
  {
   "cell_type": "code",
   "execution_count": 9,
   "id": "ca78e003-58cb-4065-916a-8895a37c960a",
   "metadata": {},
   "outputs": [],
   "source": [
    "def mc_bs_european(N, T, S, sigma, q, r, K, opt_type):\n",
    "    \"\"\"\n",
    "    Approximating expected value of option in risk neutral world (discounted mean)\n",
    "    \"\"\"\n",
    "    ST = mc_blackscholes(N, T, S, sigma, q, r)\n",
    "    disc = np.exp(-r * T)\n",
    "    V = np.average(np.maximum(ST - K, 0)) if opt_type ==\"call\" else np.average(np.maximum(K - ST, 0))\n",
    "    return disc * V"
   ]
  },
  {
   "cell_type": "markdown",
   "id": "2033b39d-ccc8-4aa5-8c9d-ba89582875cb",
   "metadata": {},
   "source": [
    "## Pricing options"
   ]
  },
  {
   "cell_type": "code",
   "execution_count": 10,
   "id": "13c5552d-5f8c-4b5b-baec-d6ec6b5bff43",
   "metadata": {},
   "outputs": [],
   "source": [
    "def pricer(pricing_fcn, N, T, S, sigma, q, r, K, option, dS, dsigma, dt, dr, title=\"option\"):\n",
    "    \"\"\"\n",
    "    Pricing option and computing greeks for any pricing method and any shocks \n",
    "    \"\"\"\n",
    "    # computing price\n",
    "    V = pricing_fcn(N, T, S, sigma, q, r, K, option)\n",
    "    # computing prices with shocks \n",
    "    V_dS_u = pricing_fcn(N, T, S + dS, sigma, q, r, K, option)\n",
    "    V_dS_d = pricing_fcn(N, T, S - dS, sigma, q, r, K, option)\n",
    "    V_dsigma_u = pricing_fcn(N, T, S, sigma + dsigma, q, r, K, option)\n",
    "    V_dt_d = pricing_fcn(N, T - dt, S, sigma, q, r, K, option)\n",
    "    V_dr_u = pricing_fcn(N, T, S, sigma, q, r + dr, K, option)\n",
    "\n",
    "    # computing greeks with shocked prices\n",
    "    delta = round((V_dS_u - V) / dS)\n",
    "    gamma = round((V_dS_u - 2 * V + V_dS_d) / (dS ** 2))\n",
    "    vega = round((V_dsigma_u - V) / dsigma)\n",
    "    theta = round((V_dt_d - V) / dt)\n",
    "    rho = round((V_dr_u - V) / dr)\n",
    "\n",
    "    return pd.DataFrame.from_dict({'price': V, 'delta': delta, 'gamma': gamma, 'vega': vega, 'theta': theta, 'rho': rho}, orient='index', columns=[title])\n"
   ]
  },
  {
   "cell_type": "code",
   "execution_count": 11,
   "id": "89c34ad9-1273-478e-bf62-9e126e52d922",
   "metadata": {},
   "outputs": [],
   "source": [
    "N = 10_000_000                              # number of paths\n",
    "dS, dsigma, dt, dr = 1, 0.01, 0.01, 0.01    # shock values"
   ]
  },
  {
   "cell_type": "code",
   "execution_count": 12,
   "id": "186c634e-3c23-4aa5-918a-06263c74931f",
   "metadata": {},
   "outputs": [
    {
     "data": {
      "text/html": [
       "<div>\n",
       "<style scoped>\n",
       "    .dataframe tbody tr th:only-of-type {\n",
       "        vertical-align: middle;\n",
       "    }\n",
       "\n",
       "    .dataframe tbody tr th {\n",
       "        vertical-align: top;\n",
       "    }\n",
       "\n",
       "    .dataframe thead th {\n",
       "        text-align: right;\n",
       "    }\n",
       "</style>\n",
       "<table border=\"1\" class=\"dataframe\">\n",
       "  <thead>\n",
       "    <tr style=\"text-align: right;\">\n",
       "      <th></th>\n",
       "      <th>call</th>\n",
       "    </tr>\n",
       "  </thead>\n",
       "  <tbody>\n",
       "    <tr>\n",
       "      <th>price</th>\n",
       "      <td>3.052988</td>\n",
       "    </tr>\n",
       "    <tr>\n",
       "      <th>delta</th>\n",
       "      <td>0.467500</td>\n",
       "    </tr>\n",
       "    <tr>\n",
       "      <th>gamma</th>\n",
       "      <td>0.038700</td>\n",
       "    </tr>\n",
       "    <tr>\n",
       "      <th>vega</th>\n",
       "      <td>14.639200</td>\n",
       "    </tr>\n",
       "    <tr>\n",
       "      <th>theta</th>\n",
       "      <td>-3.962300</td>\n",
       "    </tr>\n",
       "    <tr>\n",
       "      <th>rho</th>\n",
       "      <td>11.246100</td>\n",
       "    </tr>\n",
       "  </tbody>\n",
       "</table>\n",
       "</div>"
      ],
      "text/plain": [
       "            call\n",
       "price   3.052988\n",
       "delta   0.467500\n",
       "gamma   0.038700\n",
       "vega   14.639200\n",
       "theta  -3.962300\n",
       "rho    11.246100"
      ]
     },
     "execution_count": 12,
     "metadata": {},
     "output_type": "execute_result"
    }
   ],
   "source": [
    "euro_call = pricer(mc_bs_european, N, T, S, sigma, q, r, K, 'call', dS, dsigma, dt, dr, title=\"call\")\n",
    "euro_call"
   ]
  },
  {
   "cell_type": "code",
   "execution_count": 13,
   "id": "03362257-1d79-4247-8e02-33e7f8f94797",
   "metadata": {},
   "outputs": [
    {
     "data": {
      "text/html": [
       "<div>\n",
       "<style scoped>\n",
       "    .dataframe tbody tr th:only-of-type {\n",
       "        vertical-align: middle;\n",
       "    }\n",
       "\n",
       "    .dataframe tbody tr th {\n",
       "        vertical-align: top;\n",
       "    }\n",
       "\n",
       "    .dataframe thead th {\n",
       "        text-align: right;\n",
       "    }\n",
       "</style>\n",
       "<table border=\"1\" class=\"dataframe\">\n",
       "  <thead>\n",
       "    <tr style=\"text-align: right;\">\n",
       "      <th></th>\n",
       "      <th>put</th>\n",
       "    </tr>\n",
       "  </thead>\n",
       "  <tbody>\n",
       "    <tr>\n",
       "      <th>price</th>\n",
       "      <td>5.274805</td>\n",
       "    </tr>\n",
       "    <tr>\n",
       "      <th>delta</th>\n",
       "      <td>-0.520000</td>\n",
       "    </tr>\n",
       "    <tr>\n",
       "      <th>gamma</th>\n",
       "      <td>0.039600</td>\n",
       "    </tr>\n",
       "    <tr>\n",
       "      <th>vega</th>\n",
       "      <td>14.552700</td>\n",
       "    </tr>\n",
       "    <tr>\n",
       "      <th>theta</th>\n",
       "      <td>-2.661200</td>\n",
       "    </tr>\n",
       "    <tr>\n",
       "      <th>rho</th>\n",
       "      <td>-18.230700</td>\n",
       "    </tr>\n",
       "  </tbody>\n",
       "</table>\n",
       "</div>"
      ],
      "text/plain": [
       "             put\n",
       "price   5.274805\n",
       "delta  -0.520000\n",
       "gamma   0.039600\n",
       "vega   14.552700\n",
       "theta  -2.661200\n",
       "rho   -18.230700"
      ]
     },
     "execution_count": 13,
     "metadata": {},
     "output_type": "execute_result"
    }
   ],
   "source": [
    "euro_put = pricer(mc_bs_european, N, T, S, sigma, q, r, K, 'put', dS, dsigma, dt, dr, title=\"put\")\n",
    "euro_put"
   ]
  },
  {
   "cell_type": "markdown",
   "id": "cea4afd2-2125-4c73-b741-821db5747cd5",
   "metadata": {},
   "source": [
    "## Comparing with closed form solutions"
   ]
  },
  {
   "cell_type": "code",
   "execution_count": 14,
   "id": "0ddcc83e-3a22-4b00-b47b-b4b3dbec0c70",
   "metadata": {
    "scrolled": true
   },
   "outputs": [],
   "source": [
    "euro_call_analytical = pd.DataFrame.from_dict(\n",
    "    {**{'price': blackscholes_analytical(S, K, T, sigma, r, q, \"call\")}, **blackscholes_greeks(S, K, T, sigma, r, q, \"call\")}, \n",
    "    orient='index', \n",
    "    columns=[\"call_analytical\"]\n",
    ")"
   ]
  },
  {
   "cell_type": "code",
   "execution_count": 15,
   "id": "aae3ad27-136e-4a8c-8544-60d9a4bafbb9",
   "metadata": {},
   "outputs": [
    {
     "data": {
      "text/html": [
       "<div>\n",
       "<style scoped>\n",
       "    .dataframe tbody tr th:only-of-type {\n",
       "        vertical-align: middle;\n",
       "    }\n",
       "\n",
       "    .dataframe tbody tr th {\n",
       "        vertical-align: top;\n",
       "    }\n",
       "\n",
       "    .dataframe thead th {\n",
       "        text-align: right;\n",
       "    }\n",
       "</style>\n",
       "<table border=\"1\" class=\"dataframe\">\n",
       "  <thead>\n",
       "    <tr style=\"text-align: right;\">\n",
       "      <th></th>\n",
       "      <th>call</th>\n",
       "      <th>call_analytical</th>\n",
       "    </tr>\n",
       "  </thead>\n",
       "  <tbody>\n",
       "    <tr>\n",
       "      <th>price</th>\n",
       "      <td>3.052988</td>\n",
       "      <td>3.0534</td>\n",
       "    </tr>\n",
       "    <tr>\n",
       "      <th>delta</th>\n",
       "      <td>0.467500</td>\n",
       "      <td>0.4492</td>\n",
       "    </tr>\n",
       "    <tr>\n",
       "      <th>gamma</th>\n",
       "      <td>0.038700</td>\n",
       "      <td>0.0388</td>\n",
       "    </tr>\n",
       "    <tr>\n",
       "      <th>vega</th>\n",
       "      <td>14.639200</td>\n",
       "      <td>14.6608</td>\n",
       "    </tr>\n",
       "    <tr>\n",
       "      <th>theta</th>\n",
       "      <td>-3.962300</td>\n",
       "      <td>-2.9801</td>\n",
       "    </tr>\n",
       "    <tr>\n",
       "      <th>rho</th>\n",
       "      <td>11.246100</td>\n",
       "      <td>11.0589</td>\n",
       "    </tr>\n",
       "  </tbody>\n",
       "</table>\n",
       "</div>"
      ],
      "text/plain": [
       "            call  call_analytical\n",
       "price   3.052988           3.0534\n",
       "delta   0.467500           0.4492\n",
       "gamma   0.038700           0.0388\n",
       "vega   14.639200          14.6608\n",
       "theta  -3.962300          -2.9801\n",
       "rho    11.246100          11.0589"
      ]
     },
     "execution_count": 15,
     "metadata": {},
     "output_type": "execute_result"
    }
   ],
   "source": [
    "pd.concat([euro_call, euro_call_analytical], axis=1)"
   ]
  },
  {
   "cell_type": "code",
   "execution_count": 16,
   "id": "a97d21e5-d9bc-46a1-88ca-687efa04b3bc",
   "metadata": {},
   "outputs": [],
   "source": [
    "euro_put_analytical = pd.DataFrame.from_dict(\n",
    "    {**{'price': blackscholes_analytical(S, K, T, sigma, r, q, \"put\")}, **blackscholes_greeks(S, K, T, sigma, r, q, \"put\")}, \n",
    "    orient='index', \n",
    "    columns=[\"put_analytical\"]\n",
    ")"
   ]
  },
  {
   "cell_type": "code",
   "execution_count": 17,
   "id": "7d2faa24-1828-4f03-8521-b46790a91658",
   "metadata": {},
   "outputs": [
    {
     "data": {
      "text/html": [
       "<div>\n",
       "<style scoped>\n",
       "    .dataframe tbody tr th:only-of-type {\n",
       "        vertical-align: middle;\n",
       "    }\n",
       "\n",
       "    .dataframe tbody tr th {\n",
       "        vertical-align: top;\n",
       "    }\n",
       "\n",
       "    .dataframe thead th {\n",
       "        text-align: right;\n",
       "    }\n",
       "</style>\n",
       "<table border=\"1\" class=\"dataframe\">\n",
       "  <thead>\n",
       "    <tr style=\"text-align: right;\">\n",
       "      <th></th>\n",
       "      <th>put</th>\n",
       "      <th>put_analytical</th>\n",
       "    </tr>\n",
       "  </thead>\n",
       "  <tbody>\n",
       "    <tr>\n",
       "      <th>price</th>\n",
       "      <td>5.274805</td>\n",
       "      <td>5.2745</td>\n",
       "    </tr>\n",
       "    <tr>\n",
       "      <th>delta</th>\n",
       "      <td>-0.520000</td>\n",
       "      <td>-0.5392</td>\n",
       "    </tr>\n",
       "    <tr>\n",
       "      <th>gamma</th>\n",
       "      <td>0.039600</td>\n",
       "      <td>0.0388</td>\n",
       "    </tr>\n",
       "    <tr>\n",
       "      <th>vega</th>\n",
       "      <td>14.552700</td>\n",
       "      <td>14.6608</td>\n",
       "    </tr>\n",
       "    <tr>\n",
       "      <th>theta</th>\n",
       "      <td>-2.661200</td>\n",
       "      <td>-4.2908</td>\n",
       "    </tr>\n",
       "    <tr>\n",
       "      <th>rho</th>\n",
       "      <td>-18.230700</td>\n",
       "      <td>-18.4886</td>\n",
       "    </tr>\n",
       "  </tbody>\n",
       "</table>\n",
       "</div>"
      ],
      "text/plain": [
       "             put  put_analytical\n",
       "price   5.274805          5.2745\n",
       "delta  -0.520000         -0.5392\n",
       "gamma   0.039600          0.0388\n",
       "vega   14.552700         14.6608\n",
       "theta  -2.661200         -4.2908\n",
       "rho   -18.230700        -18.4886"
      ]
     },
     "execution_count": 17,
     "metadata": {},
     "output_type": "execute_result"
    }
   ],
   "source": [
    "pd.concat([euro_put, euro_put_analytical], axis=1)"
   ]
  },
  {
   "cell_type": "markdown",
   "id": "be35e4c3-7da2-46f2-bbad-422c0efc8553",
   "metadata": {},
   "source": [
    "# Problem 2"
   ]
  },
  {
   "cell_type": "code",
   "execution_count": 18,
   "id": "cfae864a-d276-4dfd-a522-16f5a7764181",
   "metadata": {},
   "outputs": [],
   "source": [
    "S, T, K, r, q = 62, 10/12, 66, 0.045, 0.015\n",
    "P_market = 6.36"
   ]
  },
  {
   "cell_type": "code",
   "execution_count": 19,
   "id": "78c3d444-67e4-40d6-b08c-82cccb03b490",
   "metadata": {},
   "outputs": [],
   "source": [
    "N = 10_000_000\n",
    "# fixing all parameters of mc pricer except sigma (or IV)\n",
    "price_IV = partial(mc_bs_european, N=N, T=T, S=S, q=q, r=r, K=K, opt_type=\"put\")\n",
    "# computing error\n",
    "IV_error = lambda sigma: price_IV(sigma=sigma) - P_market"
   ]
  },
  {
   "cell_type": "code",
   "execution_count": 20,
   "id": "606757a2-dc52-43f5-b309-88c663cc83c3",
   "metadata": {},
   "outputs": [
    {
     "data": {
      "text/plain": [
       "'22.51%'"
      ]
     },
     "execution_count": 20,
     "metadata": {},
     "output_type": "execute_result"
    }
   ],
   "source": [
    "# secant method with tol= 1e-6\n",
    "result = root_scalar(IV_error, x0=0.2, x1=0.3, bracket=[0.01, 1], method='secant', xtol=1e-6)\n",
    "IV = result.root\n",
    "f\"{round(IV):.2%}\""
   ]
  },
  {
   "cell_type": "code",
   "execution_count": 21,
   "id": "337652f4-8afd-428d-bc3a-2e1d8b447cee",
   "metadata": {},
   "outputs": [
    {
     "data": {
      "text/plain": [
       "6.3608"
      ]
     },
     "execution_count": 21,
     "metadata": {},
     "output_type": "execute_result"
    }
   ],
   "source": [
    "# making sure that result is close to price analytically\n",
    "blackscholes_analytical(S, K, T, IV, r, q, opt_type='put')"
   ]
  },
  {
   "cell_type": "markdown",
   "id": "77dd8bdc-ab29-46ca-948b-864c63efaaee",
   "metadata": {},
   "source": [
    "# Problem 3"
   ]
  },
  {
   "cell_type": "code",
   "execution_count": 22,
   "id": "fb27d3e8-4d59-4998-bbe7-fbd0f56f2996",
   "metadata": {},
   "outputs": [],
   "source": [
    "def trinomial_tree_american(N, T, S, sigma, q, r, K, opt_type):\n",
    "    \"\"\"\n",
    "    Trinomial Tree pricer for vanilla american options \n",
    "    \"\"\"\n",
    "    # time jumps and price jumps\n",
    "    dt = T / N\n",
    "    u = np.exp(sigma * np.sqrt(3 * dt))\n",
    "    d = 1 / u\n",
    "    m = 1\n",
    "\n",
    "    # risk neutral probabilities\n",
    "    pu = 1/6 + (r - q - sigma ** 2 / 2) * np.sqrt(dt / (12 * sigma ** 2))\n",
    "    pm = 2/3\n",
    "    pd = 1/6 - (r - q - sigma ** 2 / 2) * np.sqrt(dt / (12 * sigma ** 2))\n",
    "\n",
    "    # discount rates\n",
    "    disc_r = np.exp(-r * dt)\n",
    "    \n",
    "    # vanilla payoff\n",
    "    payoff = lambda S: np.maximum(0, S - K) if opt_type == \"call\" else np.maximum(0, K - S)\n",
    "\n",
    "    # states of underlying at maturity\n",
    "    St = S * u ** np.arange(-N, N+1, 1)\n",
    "    # pricing option at maturity for each state\n",
    "    v = payoff(St)\n",
    "\n",
    "    # backwardation\n",
    "    for i in range(N, 0, -1):\n",
    "        # calculating expected value if continuation (no exercise)\n",
    "        cont = pu * v[2:] + pm * v[1:-1] + pd * v[:-2]\n",
    "        # getting states of values at next step (removing first and last value)\n",
    "        St = St[1:-1]\n",
    "        # getting exercise payoff\n",
    "        exer = payoff(St)\n",
    "        # getting next state value\n",
    "        v = disc_r * np.maximum(cont, exer)\n",
    "        \n",
    "    return v[0]"
   ]
  },
  {
   "cell_type": "code",
   "execution_count": 23,
   "id": "4a440089-1676-488c-9c6e-6f93d69728c8",
   "metadata": {},
   "outputs": [],
   "source": [
    "S, sigma, T, K, r, q = 33, 0.24, 10/12, 32, 0.045, 0.02"
   ]
  },
  {
   "cell_type": "code",
   "execution_count": 24,
   "id": "8697cc41-4fed-4f6c-bdec-f3ee6024cf7d",
   "metadata": {},
   "outputs": [],
   "source": [
    "Ns = [40, 80, 160, 320, 640, 1280]"
   ]
  },
  {
   "cell_type": "code",
   "execution_count": 25,
   "id": "d7ce2bea-39ff-4724-a73a-1f99723edd49",
   "metadata": {},
   "outputs": [
    {
     "data": {
      "text/html": [
       "<div>\n",
       "<style scoped>\n",
       "    .dataframe tbody tr th:only-of-type {\n",
       "        vertical-align: middle;\n",
       "    }\n",
       "\n",
       "    .dataframe tbody tr th {\n",
       "        vertical-align: top;\n",
       "    }\n",
       "\n",
       "    .dataframe thead th {\n",
       "        text-align: right;\n",
       "    }\n",
       "</style>\n",
       "<table border=\"1\" class=\"dataframe\">\n",
       "  <thead>\n",
       "    <tr style=\"text-align: right;\">\n",
       "      <th></th>\n",
       "      <th>call-40</th>\n",
       "      <th>call-80</th>\n",
       "      <th>call-160</th>\n",
       "      <th>call-320</th>\n",
       "      <th>call-640</th>\n",
       "      <th>call-1280</th>\n",
       "    </tr>\n",
       "  </thead>\n",
       "  <tbody>\n",
       "    <tr>\n",
       "      <th>price</th>\n",
       "      <td>3.660196</td>\n",
       "      <td>3.653535</td>\n",
       "      <td>3.648283</td>\n",
       "      <td>3.652856</td>\n",
       "      <td>3.651106</td>\n",
       "      <td>3.651604</td>\n",
       "    </tr>\n",
       "    <tr>\n",
       "      <th>delta</th>\n",
       "      <td>0.625600</td>\n",
       "      <td>0.651500</td>\n",
       "      <td>0.649300</td>\n",
       "      <td>0.647800</td>\n",
       "      <td>0.649300</td>\n",
       "      <td>0.649700</td>\n",
       "    </tr>\n",
       "    <tr>\n",
       "      <th>gamma</th>\n",
       "      <td>0.002000</td>\n",
       "      <td>0.043000</td>\n",
       "      <td>0.050400</td>\n",
       "      <td>0.046400</td>\n",
       "      <td>0.050700</td>\n",
       "      <td>0.051200</td>\n",
       "    </tr>\n",
       "    <tr>\n",
       "      <th>vega</th>\n",
       "      <td>11.179300</td>\n",
       "      <td>11.215700</td>\n",
       "      <td>11.104800</td>\n",
       "      <td>11.137800</td>\n",
       "      <td>11.130200</td>\n",
       "      <td>11.170700</td>\n",
       "    </tr>\n",
       "    <tr>\n",
       "      <th>theta</th>\n",
       "      <td>-1.965300</td>\n",
       "      <td>-1.970900</td>\n",
       "      <td>-1.943600</td>\n",
       "      <td>-1.959600</td>\n",
       "      <td>-1.952800</td>\n",
       "      <td>-1.964400</td>\n",
       "    </tr>\n",
       "    <tr>\n",
       "      <th>rho</th>\n",
       "      <td>14.250500</td>\n",
       "      <td>14.261500</td>\n",
       "      <td>14.267900</td>\n",
       "      <td>14.261800</td>\n",
       "      <td>14.264300</td>\n",
       "      <td>14.263700</td>\n",
       "    </tr>\n",
       "  </tbody>\n",
       "</table>\n",
       "</div>"
      ],
      "text/plain": [
       "         call-40    call-80   call-160   call-320   call-640  call-1280\n",
       "price   3.660196   3.653535   3.648283   3.652856   3.651106   3.651604\n",
       "delta   0.625600   0.651500   0.649300   0.647800   0.649300   0.649700\n",
       "gamma   0.002000   0.043000   0.050400   0.046400   0.050700   0.051200\n",
       "vega   11.179300  11.215700  11.104800  11.137800  11.130200  11.170700\n",
       "theta  -1.965300  -1.970900  -1.943600  -1.959600  -1.952800  -1.964400\n",
       "rho    14.250500  14.261500  14.267900  14.261800  14.264300  14.263700"
      ]
     },
     "execution_count": 25,
     "metadata": {},
     "output_type": "execute_result"
    }
   ],
   "source": [
    "calls = pd.concat(\n",
    "    [pricer(trinomial_tree_american, N, T, S, sigma, q, r, K, 'call', dS, dsigma, dt, dr, title=f\"call-{N}\") for N in Ns], \n",
    "    axis=1\n",
    ")\n",
    "calls"
   ]
  },
  {
   "cell_type": "code",
   "execution_count": 26,
   "id": "cb1b6184-b501-4b1c-83c6-aa6dafedeeca",
   "metadata": {},
   "outputs": [
    {
     "data": {
      "text/html": [
       "<div>\n",
       "<style scoped>\n",
       "    .dataframe tbody tr th:only-of-type {\n",
       "        vertical-align: middle;\n",
       "    }\n",
       "\n",
       "    .dataframe tbody tr th {\n",
       "        vertical-align: top;\n",
       "    }\n",
       "\n",
       "    .dataframe thead th {\n",
       "        text-align: right;\n",
       "    }\n",
       "</style>\n",
       "<table border=\"1\" class=\"dataframe\">\n",
       "  <thead>\n",
       "    <tr style=\"text-align: right;\">\n",
       "      <th></th>\n",
       "      <th>call-40</th>\n",
       "      <th>call-80</th>\n",
       "      <th>call-160</th>\n",
       "      <th>call-320</th>\n",
       "      <th>call-640</th>\n",
       "      <th>call-1280</th>\n",
       "    </tr>\n",
       "  </thead>\n",
       "  <tbody>\n",
       "    <tr>\n",
       "      <th>price</th>\n",
       "      <td>2.078403</td>\n",
       "      <td>2.074752</td>\n",
       "      <td>2.070933</td>\n",
       "      <td>2.075409</td>\n",
       "      <td>2.074193</td>\n",
       "      <td>2.074768</td>\n",
       "    </tr>\n",
       "    <tr>\n",
       "      <th>delta</th>\n",
       "      <td>-0.366700</td>\n",
       "      <td>-0.344700</td>\n",
       "      <td>-0.346400</td>\n",
       "      <td>-0.347700</td>\n",
       "      <td>-0.346500</td>\n",
       "      <td>-0.346200</td>\n",
       "    </tr>\n",
       "    <tr>\n",
       "      <th>gamma</th>\n",
       "      <td>0.012300</td>\n",
       "      <td>0.047300</td>\n",
       "      <td>0.054100</td>\n",
       "      <td>0.050700</td>\n",
       "      <td>0.054200</td>\n",
       "      <td>0.054500</td>\n",
       "    </tr>\n",
       "    <tr>\n",
       "      <th>vega</th>\n",
       "      <td>11.246600</td>\n",
       "      <td>11.287300</td>\n",
       "      <td>11.212800</td>\n",
       "      <td>11.224700</td>\n",
       "      <td>11.223700</td>\n",
       "      <td>11.254700</td>\n",
       "    </tr>\n",
       "    <tr>\n",
       "      <th>theta</th>\n",
       "      <td>-1.310500</td>\n",
       "      <td>-1.319300</td>\n",
       "      <td>-1.298600</td>\n",
       "      <td>-1.311700</td>\n",
       "      <td>-1.307300</td>\n",
       "      <td>-1.316800</td>\n",
       "    </tr>\n",
       "    <tr>\n",
       "      <th>rho</th>\n",
       "      <td>-9.227300</td>\n",
       "      <td>-9.103200</td>\n",
       "      <td>-9.042900</td>\n",
       "      <td>-9.059500</td>\n",
       "      <td>-9.041600</td>\n",
       "      <td>-9.040800</td>\n",
       "    </tr>\n",
       "  </tbody>\n",
       "</table>\n",
       "</div>"
      ],
      "text/plain": [
       "         call-40    call-80   call-160   call-320   call-640  call-1280\n",
       "price   2.078403   2.074752   2.070933   2.075409   2.074193   2.074768\n",
       "delta  -0.366700  -0.344700  -0.346400  -0.347700  -0.346500  -0.346200\n",
       "gamma   0.012300   0.047300   0.054100   0.050700   0.054200   0.054500\n",
       "vega   11.246600  11.287300  11.212800  11.224700  11.223700  11.254700\n",
       "theta  -1.310500  -1.319300  -1.298600  -1.311700  -1.307300  -1.316800\n",
       "rho    -9.227300  -9.103200  -9.042900  -9.059500  -9.041600  -9.040800"
      ]
     },
     "execution_count": 26,
     "metadata": {},
     "output_type": "execute_result"
    }
   ],
   "source": [
    "puts = pd.concat(\n",
    "    [pricer(trinomial_tree_american, N, T, S, sigma, q, r, K, 'put', dS, dsigma, dt, dr, title=f\"call-{N}\") for N in Ns], \n",
    "    axis=1\n",
    ")\n",
    "puts"
   ]
  },
  {
   "cell_type": "markdown",
   "id": "0bc10f9c-7de6-4ada-888b-2016bbab7eac",
   "metadata": {},
   "source": [
    "# Problem 4"
   ]
  },
  {
   "cell_type": "code",
   "execution_count": 27,
   "id": "2689c0e8-fb3b-4c98-9b45-d612b9268edd",
   "metadata": {},
   "outputs": [],
   "source": [
    "S, T, K, r, q = 56, 8/12, 60, 0.045, 0.015\n",
    "P_market = 6.95"
   ]
  },
  {
   "cell_type": "markdown",
   "id": "9cee1a88-aef6-4aff-8e8e-73b0af2a16ab",
   "metadata": {},
   "source": [
    "## i)"
   ]
  },
  {
   "cell_type": "code",
   "execution_count": 28,
   "id": "722bafea-d91f-4993-9cab-b64d746140b0",
   "metadata": {},
   "outputs": [],
   "source": [
    "IV_guess = 0.25\n",
    "N_start = 10\n",
    "tol = 1e-6"
   ]
  },
  {
   "cell_type": "code",
   "execution_count": 29,
   "id": "cd237560-23db-44ed-b918-a4c8e9639f10",
   "metadata": {},
   "outputs": [
    {
     "data": {
      "text/plain": [
       "320"
      ]
     },
     "execution_count": 29,
     "metadata": {},
     "output_type": "execute_result"
    }
   ],
   "source": [
    "P_last = 0\n",
    "P_curr = trinomial_tree_american(N_start, T, S, IV_guess, q, r, K, 'put')\n",
    "N = N_start\n",
    "while abs(P_curr - P_last) > tol:\n",
    "    N *= 2\n",
    "    P_last = P_curr\n",
    "    P_curr = trinomial_tree_american(N, T, S, IV_guess, q, r, K, 'put')\n",
    "N_fixed = N\n",
    "N_fixed"
   ]
  },
  {
   "cell_type": "code",
   "execution_count": 30,
   "id": "b8252a15-aec2-4f57-ad8f-5c0047cdade7",
   "metadata": {},
   "outputs": [
    {
     "data": {
      "text/plain": [
       "6.350841130517868"
      ]
     },
     "execution_count": 30,
     "metadata": {},
     "output_type": "execute_result"
    }
   ],
   "source": [
    "trinomial_tree_american(N_fixed, T, S, IV_guess, q, r, K, 'put')"
   ]
  },
  {
   "cell_type": "markdown",
   "id": "092b762f-456f-4360-be70-9501426928c3",
   "metadata": {},
   "source": [
    "## ii)"
   ]
  },
  {
   "cell_type": "code",
   "execution_count": 31,
   "id": "487eef8d-afca-4f6a-916d-668f745ff5aa",
   "metadata": {},
   "outputs": [],
   "source": [
    "# forward price\n",
    "F = S * np.exp((r - q) * T)"
   ]
  },
  {
   "cell_type": "code",
   "execution_count": 32,
   "id": "51028b9b-3b98-4c30-8d5d-99463f42024b",
   "metadata": {},
   "outputs": [],
   "source": [
    "def SD_approx(P_market, F, T, r, K):\n",
    "    \"\"\"\n",
    "    Implied volatility approximation by Stefanica and Radoicic\n",
    "    \"\"\"\n",
    "    \n",
    "    def gamma_fcn(y, R):\n",
    "        A = (np.exp((1 - 2 / np.pi) * y) - np.exp(-(1 - 2 / np.pi) * y)) ** 2\n",
    "        B = 4 * (np.exp((2 / np.pi) * y) + np.exp(-(2 / np.pi) * y)) - 2 * np.exp(-y) * (np.exp((1 - 2 / np.pi) * y) + np.exp(-(1 - 2 / np.pi) * y)) * (np.exp(2 * y) + 1 - R ** 2)\n",
    "        C = np.exp(-2 * y) * (R ** 2 - (np.exp(y) - 1) ** 2) * ((np.exp(y) + 1) ** 2 - R ** 2)\n",
    "        return  -np.pi / 2 * np.log(2 * C / (B + np.sqrt(B ** 2 + 4 * A * C)))\n",
    "    \n",
    "    def A(y):\n",
    "        return  1 / 2 * (1 + np.sign(y) * np.sqrt(1 - np.exp(-(2 / np.pi) * y ** 2)))\n",
    "        \n",
    "    y = np.log(F / K)\n",
    "    alpha_P = P_market / (K * np.exp(-r * T))\n",
    "    R = 2 * alpha_P + np.exp(y) - 1\n",
    "    gamma = gamma_fcn(y, R)\n",
    "\n",
    "    if y >= 0:\n",
    "        P_0 = K * np.exp(-r * T) * (1 / 2 - np.exp(y) * A(-np.sqrt(2 * y)))\n",
    "        \n",
    "        if P_market <= P_0:\n",
    "            return (np.sqrt(gamma + y) - np.sqrt(gamma - y)) / np.sqrt(T)\n",
    "            \n",
    "        else:\n",
    "            return (np.sqrt(gamma + y) + np.sqrt(gamma - y)) / np.sqrt(T)\n",
    "\n",
    "    else:\n",
    "        P_0 = K * np.exp(-r * T) * (A(np.sqrt(-2 * y)) - np.exp(y) / 2) \n",
    "        if P_market <= P_0:\n",
    "            return (-np.sqrt(gamma + y) + np.sqrt(gamma - y)) / np.sqrt(T)\n",
    "        else:\n",
    "            return (np.sqrt(gamma + y) + np.sqrt(gamma - y)) / np.sqrt(T)       "
   ]
  },
  {
   "cell_type": "code",
   "execution_count": 33,
   "id": "7cfd3959-276d-4b57-be22-395f945f3644",
   "metadata": {},
   "outputs": [
    {
     "data": {
      "text/plain": [
       "0.29458765639080964"
      ]
     },
     "execution_count": 33,
     "metadata": {},
     "output_type": "execute_result"
    }
   ],
   "source": [
    "# approximated IV by SD approach\n",
    "IV_SD = SD_approx(P_market, F, T, r, K)\n",
    "IV_SD"
   ]
  },
  {
   "cell_type": "code",
   "execution_count": 34,
   "id": "73583610-810d-4006-a1b6-b31138d5cc4c",
   "metadata": {},
   "outputs": [],
   "source": [
    "N_fixed\n",
    "# fixing all parameters of mc pricer except sigma (or IV)\n",
    "price_IV = partial(trinomial_tree_american, N=N_fixed, T=T, S=S, q=q, r=r, K=K, opt_type=\"put\")\n",
    "# computing error and storing results\n",
    "secant_vals = []\n",
    "def IV_error_store(sigma):\n",
    "    P_IV = price_IV(sigma=sigma)\n",
    "    secant_vals.append((sigma, P_IV))\n",
    "    return P_IV - P_market"
   ]
  },
  {
   "cell_type": "code",
   "execution_count": 35,
   "id": "a7d3c059-234e-49a9-b806-e4b6960d4e76",
   "metadata": {},
   "outputs": [
    {
     "data": {
      "text/plain": [
       "'28.43%'"
      ]
     },
     "execution_count": 35,
     "metadata": {},
     "output_type": "execute_result"
    }
   ],
   "source": [
    "# two initial values (IV SD pm 2%)\n",
    "x0 = IV_SD - 0.02\n",
    "x1 = IV_SD + 0.02\n",
    "# secant method with tol= 1e-4\n",
    "result = root_scalar(IV_error_store, x0=x0, x1=x1, bracket=[0.01, 1], method='secant', xtol=1e-4)\n",
    "IV = result.root\n",
    "f\"{round(IV):.2%}\""
   ]
  },
  {
   "cell_type": "code",
   "execution_count": 36,
   "id": "8e2e56cc-d9cc-4281-992a-f5a9eaaebd0f",
   "metadata": {},
   "outputs": [
    {
     "data": {
      "text/html": [
       "<div>\n",
       "<style scoped>\n",
       "    .dataframe tbody tr th:only-of-type {\n",
       "        vertical-align: middle;\n",
       "    }\n",
       "\n",
       "    .dataframe tbody tr th {\n",
       "        vertical-align: top;\n",
       "    }\n",
       "\n",
       "    .dataframe thead th {\n",
       "        text-align: right;\n",
       "    }\n",
       "</style>\n",
       "<table border=\"1\" class=\"dataframe\">\n",
       "  <thead>\n",
       "    <tr style=\"text-align: right;\">\n",
       "      <th></th>\n",
       "      <th>0</th>\n",
       "      <th>1</th>\n",
       "      <th>2</th>\n",
       "      <th>3</th>\n",
       "    </tr>\n",
       "  </thead>\n",
       "  <tbody>\n",
       "    <tr>\n",
       "      <th>IV</th>\n",
       "      <td>0.274588</td>\n",
       "      <td>0.314588</td>\n",
       "      <td>0.284147</td>\n",
       "      <td>0.284277</td>\n",
       "    </tr>\n",
       "    <tr>\n",
       "      <th>Price</th>\n",
       "      <td>6.780491</td>\n",
       "      <td>7.489786</td>\n",
       "      <td>6.947679</td>\n",
       "      <td>6.949958</td>\n",
       "    </tr>\n",
       "  </tbody>\n",
       "</table>\n",
       "</div>"
      ],
      "text/plain": [
       "              0         1         2         3\n",
       "IV     0.274588  0.314588  0.284147  0.284277\n",
       "Price  6.780491  7.489786  6.947679  6.949958"
      ]
     },
     "execution_count": 36,
     "metadata": {},
     "output_type": "execute_result"
    }
   ],
   "source": [
    "# iteration results\n",
    "pd.DataFrame(secant_vals, columns=[\"IV\", \"Price\"]).T"
   ]
  }
 ],
 "metadata": {
  "kernelspec": {
   "display_name": "Python 3 (ipykernel)",
   "language": "python",
   "name": "python3"
  },
  "language_info": {
   "codemirror_mode": {
    "name": "ipython",
    "version": 3
   },
   "file_extension": ".py",
   "mimetype": "text/x-python",
   "name": "python",
   "nbconvert_exporter": "python",
   "pygments_lexer": "ipython3",
   "version": "3.9.5"
  }
 },
 "nbformat": 4,
 "nbformat_minor": 5
}
