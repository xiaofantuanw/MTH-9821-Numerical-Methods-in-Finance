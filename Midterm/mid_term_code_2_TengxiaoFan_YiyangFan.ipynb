{
 "cells": [
  {
   "cell_type": "code",
   "execution_count": 3,
   "id": "d8de7287",
   "metadata": {},
   "outputs": [],
   "source": [
    "# Importing necessary libraries\n",
    "import math\n",
    "\n",
    "# Trinomial Tree class definition in Python\n",
    "class TrinomialTree:\n",
    "    def __init__(self, S, K, T, sigma, r, q, N, is_call=True, is_eu=True):\n",
    "        self.S = S  # Initial stock price\n",
    "        self.K = K  # Strike price\n",
    "        self.T = T  # Time to maturity\n",
    "        self.sigma = sigma  # Volatility\n",
    "        self.r = r  # Risk-free rate\n",
    "        self.q = q  # Dividend yield\n",
    "        self.N = N  # Number of steps\n",
    "        self.is_call = is_call  # Call or Put\n",
    "        self.is_eu = is_eu  # European or American option\n",
    "        \n",
    "        # Calculate time step, up and down factors, and discount factor\n",
    "        self.dt = self.T / self.N\n",
    "        self.u = math.exp(self.sigma * math.sqrt(3 * self.dt))\n",
    "        self.d = 1 / self.u\n",
    "        self.disc = math.exp(-self.r * self.dt)\n",
    "        \n",
    "        # Calculate probabilities\n",
    "        self.pm = 2. / 3\n",
    "        self.pu = 1. / 6 + (self.r - self.q - self.sigma ** 2 / 2) * math.sqrt(self.dt / 12 / self.sigma ** 2)\n",
    "        self.pd = 1. / 6 - (self.r - self.q - self.sigma ** 2 / 2) * math.sqrt(self.dt / 12 / self.sigma ** 2)\n",
    "        \n",
    "        # Placeholder for the trinomial tree, to be populated later\n",
    "        self.tree = None\n",
    "        \n",
    "    def call_pricing(self, S):\n",
    "        return max(S - self.K, 0)\n",
    "    \n",
    "    def put_pricing(self, S):\n",
    "        return max(self.K - S, 0)\n",
    "    \n",
    "    def simulate_tree(self):\n",
    "        # Initialize option prices at the terminal nodes\n",
    "        init = [0.0] * (2 * self.N + 1)\n",
    "        if self.is_call:\n",
    "            for i in range(2 * self.N + 1):\n",
    "                init[i] = self.call_pricing(self.S * pow(self.u, self.N - i))\n",
    "        else:\n",
    "            for i in range(2 * self.N + 1):\n",
    "                init[i] = self.put_pricing(self.S * pow(self.u, self.N - i))\n",
    "    \n",
    "        # Initialize the tree with terminal nodes\n",
    "        self.Nodes = [init]\n",
    "    \n",
    "        # Backward induction to find option prices at earlier nodes\n",
    "        for j in range(self.N - 1, -1, -1):\n",
    "            tmp = [0.0] * (2 * j + 1)\n",
    "            curr_price = self.S * pow(self.u, j)  # Initialize curr_price for i=0\n",
    "        \n",
    "            for i in range(2 * j + 1):\n",
    "                tmp[i] = self.disc * (self.pu * self.Nodes[self.N - j - 1][i] + \n",
    "                                  self.pm * self.Nodes[self.N - j - 1][i + 1] + \n",
    "                                  self.pd * self.Nodes[self.N - j - 1][i + 2])\n",
    "            \n",
    "                # Check for early exercise for American options\n",
    "                if not self.is_eu:\n",
    "                    exercise_value = self.call_pricing(curr_price) if self.is_call else self.put_pricing(curr_price)\n",
    "                    tmp[i] = max(tmp[i], exercise_value)\n",
    "                \n",
    "                # Update curr_price for next iteration\n",
    "                    curr_price *= self.d\n",
    "        \n",
    "            self.Nodes.append(tmp)\n",
    "    def price(self):\n",
    "        return self.Nodes[-1][0]  # Last time step, first node\n",
    "    \n",
    "    def delta(self):\n",
    "        return (self.Nodes[-2][0] - self.Nodes[-2][2]) / (self.u * self.S - self.d * self.S)\n",
    "    \n",
    "    def gamma(self):\n",
    "        delta1 = (self.Nodes[-3][0] - self.Nodes[-3][2]) / (self.u * self.u * self.S - self.u * self.d * self.S)\n",
    "        delta2 = (self.Nodes[-3][2] - self.Nodes[-3][4]) / (self.u * self.d * self.S - self.d * self.d * self.S)\n",
    "        return (delta1 - delta2) * 2 / (self.u * self.u * self.S - self.d * self.d * self.S)\n",
    "    \n",
    "    def theta(self):\n",
    "        return (self.Nodes[-2][1] - self.Nodes[-1][0]) / self.dt\n"
   ]
  },
  {
   "cell_type": "code",
   "execution_count": 8,
   "id": "54d04806",
   "metadata": {},
   "outputs": [
    {
     "name": "stdout",
     "output_type": "stream",
     "text": [
      "40 2.0802508259941104 -0.3726438657495654 0.05431276338416496 -1.312637295506782\n",
      "80 2.075707417021901 -0.3727769113179724 0.05444890032205049 -1.3117756447534104\n",
      "160 2.071415122357228 -0.37290393749117484 0.054571019938786276 -1.313166768968358\n",
      "320 2.075650218717313 -0.37292727055676067 0.0544806083042339 -1.308858506114518\n",
      "640 2.074313580385048 -0.3729537305769859 0.054515666085131545 -1.3093752373911227\n",
      "1280 2.0748287118387894 -0.37296072339253455 0.05450543874205275 -1.3087148055412852\n"
     ]
    }
   ],
   "source": [
    "for n in [40,80,160,320,640,1280]:\n",
    "    # Testing the new methods\n",
    "    trinomial_tree = TrinomialTree(S=33, K=32, T=10/12, sigma=0.24, r=0.045, q=0.02, N=n, is_call=False, is_eu=False)\n",
    "    trinomial_tree.simulate_tree()\n",
    "\n",
    "    # Calculating Price, Delta, Gamma, and Theta\n",
    "    option_price = trinomial_tree.price()\n",
    "    option_delta = trinomial_tree.delta()\n",
    "    option_gamma = trinomial_tree.gamma()\n",
    "    option_theta = trinomial_tree.theta()\n",
    "\n",
    "    print(n, option_price, option_delta, option_gamma, option_theta)"
   ]
  },
  {
   "cell_type": "code",
   "execution_count": 9,
   "id": "ee36ff74",
   "metadata": {},
   "outputs": [
    {
     "name": "stdout",
     "output_type": "stream",
     "text": [
      "40 3.6601971987184427 0.6247434296365787 0.05097270556533879 -1.960681037813522\n",
      "80 3.6535357927795356 0.624698620079408 0.05109733753313495 -1.9591365408496413\n",
      "160 3.6482836761786963 0.6246481140574762 0.05119679490051527 -1.9596451875701175\n",
      "320 3.652856880605639 0.6245212598225127 0.051112564893413266 -1.9552874816211554\n",
      "640 3.65110605819944 0.6245277625114781 0.051144449974950074 -1.9556801180767704\n",
      "1280 3.6516042350315856 0.6245081373728494 0.05113513813747167 -1.9550035086224395\n"
     ]
    }
   ],
   "source": [
    "#Value, Delta, Gamma, Theta\n",
    "for n in [40,80,160,320,640,1280]:\n",
    "    # Testing the new methods\n",
    "    trinomial_tree = TrinomialTree(S=33, K=32, T=10/12, sigma=0.24, r=0.045, q=0.02, N=n, is_call=True, is_eu=False)\n",
    "    trinomial_tree.simulate_tree()\n",
    "\n",
    "    # Calculating Price, Delta, Gamma, and Theta\n",
    "    option_price = trinomial_tree.price()\n",
    "    option_delta = trinomial_tree.delta()\n",
    "    option_gamma = trinomial_tree.gamma()\n",
    "    option_theta = trinomial_tree.theta()\n",
    "\n",
    "    print(n, option_price, option_delta, option_gamma, option_theta)"
   ]
  },
  {
   "cell_type": "code",
   "execution_count": 16,
   "id": "5574ac7d",
   "metadata": {},
   "outputs": [],
   "source": [
    "def calculate_vega_with_bump(tree, bump_amount=0.01):\n",
    "    bumped_volatility = tree.sigma + bump_amount\n",
    "    bumped_tree = TrinomialTree(S=tree.S, K=tree.K, T=tree.T, sigma=bumped_volatility, \n",
    "                                r=tree.r, q=tree.q, N=tree.N, is_call=tree.is_call, is_eu=tree.is_eu)\n",
    "    bumped_tree.simulate_tree()\n",
    "    bumped_price = bumped_tree.price()\n",
    "    return (bumped_price - tree.price()) / bump_amount\n",
    "\n",
    "def calculate_rho_with_bump(tree, bump_amount=0.0001):\n",
    "    bumped_rate = tree.r + bump_amount\n",
    "    bumped_tree = TrinomialTree(S=tree.S, K=tree.K, T=tree.T, sigma=tree.sigma, \n",
    "                                r=bumped_rate, q=tree.q, N=tree.N, is_call=tree.is_call, is_eu=tree.is_eu)\n",
    "    bumped_tree.simulate_tree()\n",
    "    bumped_price = bumped_tree.price()\n",
    "    return (bumped_price - tree.price()) / bump_amount\n",
    "        "
   ]
  },
  {
   "cell_type": "code",
   "execution_count": 27,
   "id": "57d0c682",
   "metadata": {},
   "outputs": [
    {
     "name": "stdout",
     "output_type": "stream",
     "text": [
      "11.252223471819889\n",
      "11.288229918136494\n",
      "11.152489442974911\n",
      "11.221518382444629\n",
      "11.18528203733149\n",
      "11.250560950429644\n"
     ]
    }
   ],
   "source": [
    "#Vega\n",
    "for n in [40,80,160,320,640,1280]:\n",
    "    # Testing the new methods\n",
    "    trinomial_tree = TrinomialTree(S=33, K=32, T=10/12, sigma=0.24, r=0.045, q=0.02, N=n, is_call=False, is_eu=False)\n",
    "    trinomial_tree.simulate_tree()\n",
    "\n",
    "    prev_vega = 0\n",
    "    cur_vega = 1\n",
    "    bump=0.01\n",
    "    while (abs(prev_vega-cur_vega)>1e-6):\n",
    "        prev_vega=cur_vega\n",
    "        cur_vega=calculate_vega_with_bump(trinomial_tree,bump)\n",
    "        bump=bump/2\n",
    "    print(cur_vega)"
   ]
  },
  {
   "cell_type": "code",
   "execution_count": 28,
   "id": "1e2467a0",
   "metadata": {},
   "outputs": [
    {
     "name": "stdout",
     "output_type": "stream",
     "text": [
      "40 11.174592050883803\n",
      "80 11.210755502906977\n",
      "160 11.019865696289344\n",
      "320 11.132729134260444\n",
      "640 11.085118951814366\n",
      "1280 11.165595328202471\n"
     ]
    }
   ],
   "source": [
    "#Vega\n",
    "for n in [40,80,160,320,640,1280]:\n",
    "    # Testing the new methods\n",
    "    trinomial_tree = TrinomialTree(S=33, K=32, T=10/12, sigma=0.24, r=0.045, q=0.02, N=n, is_call=True, is_eu=False)\n",
    "    trinomial_tree.simulate_tree()\n",
    "\n",
    "    prev_vega = 0\n",
    "    cur_vega = 1\n",
    "    bump=0.01\n",
    "    while (abs(prev_vega-cur_vega)>1e-6):\n",
    "        prev_vega=cur_vega\n",
    "        cur_vega=calculate_vega_with_bump(trinomial_tree,bump)\n",
    "        bump=bump/2\n",
    "        #print(cur_vega)\n",
    "    print(n,cur_vega)"
   ]
  },
  {
   "cell_type": "code",
   "execution_count": 29,
   "id": "09cdd486",
   "metadata": {},
   "outputs": [
    {
     "name": "stdout",
     "output_type": "stream",
     "text": [
      "-9.427703829715028\n",
      "-9.370992053300142\n",
      "-9.320041700266302\n",
      "-9.340078104287386\n",
      "-9.325882291886955\n",
      "-9.32581378147006\n"
     ]
    }
   ],
   "source": [
    "#Rho\n",
    "for n in [40,80,160,320,640,1280]:\n",
    "    # Testing the new methods\n",
    "    trinomial_tree = TrinomialTree(S=33, K=32, T=10/12, sigma=0.24, r=0.045, q=0.02, N=n, is_call=False, is_eu=False)\n",
    "    trinomial_tree.simulate_tree()\n",
    "\n",
    "    prev_rho = 0\n",
    "    cur_rho = 1\n",
    "    bump=0.01\n",
    "    while (abs(prev_rho-cur_rho)>1e-6):\n",
    "        prev_rho=cur_rho\n",
    "        cur_rho=calculate_rho_with_bump(trinomial_tree,bump)\n",
    "        bump/=2\n",
    "    print(cur_rho)"
   ]
  },
  {
   "cell_type": "code",
   "execution_count": 30,
   "id": "e07b253d",
   "metadata": {},
   "outputs": [
    {
     "name": "stdout",
     "output_type": "stream",
     "text": [
      "14.124080038163811\n",
      "14.131285366602242\n",
      "14.135725400410593\n",
      "14.129137166310102\n",
      "14.131137914955616\n",
      "14.130357280373573\n"
     ]
    }
   ],
   "source": [
    "#Rho\n",
    "for n in [40,80,160,320,640,1280]:\n",
    "    # Testing the new methods\n",
    "    trinomial_tree = TrinomialTree(S=33, K=32, T=10/12, sigma=0.24, r=0.045, q=0.02, N=n, is_call=True, is_eu=False)\n",
    "    trinomial_tree.simulate_tree()\n",
    "\n",
    "    prev_rho = 0\n",
    "    cur_rho = 1\n",
    "    bump=0.01\n",
    "    while (abs(prev_rho-cur_rho)>1e-6):\n",
    "        prev_rho=cur_rho\n",
    "        cur_rho=calculate_rho_with_bump(trinomial_tree,bump)\n",
    "        bump/=2\n",
    "    print(cur_rho)"
   ]
  },
  {
   "cell_type": "code",
   "execution_count": 51,
   "id": "f62c50f5",
   "metadata": {},
   "outputs": [
    {
     "name": "stdout",
     "output_type": "stream",
     "text": [
      "20 7.270271597420245\n",
      "40 7.227757291334799\n",
      "80 7.203741695438521\n",
      "160 7.235672930786079\n",
      "320 7.225869712455494\n",
      "640 7.229214060468633\n",
      "1280 7.2307712325535265\n",
      "2560 7.2314649920871865\n",
      "5120 7.2316947764650195\n",
      "10240 7.231788744392021\n",
      "Unexpected exception formatting exception. Falling back to standard exception\n"
     ]
    },
    {
     "name": "stderr",
     "output_type": "stream",
     "text": [
      "Traceback (most recent call last):\n",
      "  File \"C:\\Users\\ftx20\\anaconda3\\Lib\\site-packages\\IPython\\core\\interactiveshell.py\", line 3505, in run_code\n",
      "    exec(code_obj, self.user_global_ns, self.user_ns)\n",
      "  File \"C:\\Users\\ftx20\\AppData\\Local\\Temp\\ipykernel_27132\\660354055.py\", line 4, in <module>\n",
      "    trinomial_tree.simulate_tree()\n",
      "  File \"C:\\Users\\ftx20\\AppData\\Local\\Temp\\ipykernel_27132\\568740017.py\", line -1, in simulate_tree\n",
      "KeyboardInterrupt\n",
      "\n",
      "During handling of the above exception, another exception occurred:\n",
      "\n",
      "Traceback (most recent call last):\n",
      "  File \"C:\\Users\\ftx20\\anaconda3\\Lib\\site-packages\\IPython\\core\\interactiveshell.py\", line 2102, in showtraceback\n",
      "    stb = self.InteractiveTB.structured_traceback(\n",
      "          ^^^^^^^^^^^^^^^^^^^^^^^^^^^^^^^^^^^^^^^^\n",
      "  File \"C:\\Users\\ftx20\\anaconda3\\Lib\\site-packages\\IPython\\core\\ultratb.py\", line 1310, in structured_traceback\n",
      "    return FormattedTB.structured_traceback(\n",
      "           ^^^^^^^^^^^^^^^^^^^^^^^^^^^^^^^^^\n",
      "  File \"C:\\Users\\ftx20\\anaconda3\\Lib\\site-packages\\IPython\\core\\ultratb.py\", line 1199, in structured_traceback\n",
      "    return VerboseTB.structured_traceback(\n",
      "           ^^^^^^^^^^^^^^^^^^^^^^^^^^^^^^^\n",
      "  File \"C:\\Users\\ftx20\\anaconda3\\Lib\\site-packages\\IPython\\core\\ultratb.py\", line 1052, in structured_traceback\n",
      "    formatted_exception = self.format_exception_as_a_whole(etype, evalue, etb, number_of_lines_of_context,\n",
      "                          ^^^^^^^^^^^^^^^^^^^^^^^^^^^^^^^^^^^^^^^^^^^^^^^^^^^^^^^^^^^^^^^^^^^^^^^^^^^^^^^^\n",
      "  File \"C:\\Users\\ftx20\\anaconda3\\Lib\\site-packages\\IPython\\core\\ultratb.py\", line 978, in format_exception_as_a_whole\n",
      "    frames.append(self.format_record(record))\n",
      "                  ^^^^^^^^^^^^^^^^^^^^^^^^^^\n",
      "  File \"C:\\Users\\ftx20\\anaconda3\\Lib\\site-packages\\IPython\\core\\ultratb.py\", line 878, in format_record\n",
      "    frame_info.lines, Colors, self.has_colors, lvals\n",
      "    ^^^^^^^^^^^^^^^^\n",
      "  File \"C:\\Users\\ftx20\\anaconda3\\Lib\\site-packages\\IPython\\core\\ultratb.py\", line 712, in lines\n",
      "    return self._sd.lines\n",
      "           ^^^^^^^^^^^^^^\n",
      "  File \"C:\\Users\\ftx20\\anaconda3\\Lib\\site-packages\\stack_data\\utils.py\", line 145, in cached_property_wrapper\n",
      "    value = obj.__dict__[self.func.__name__] = self.func(obj)\n",
      "                                               ^^^^^^^^^^^^^^\n",
      "  File \"C:\\Users\\ftx20\\anaconda3\\Lib\\site-packages\\stack_data\\core.py\", line 698, in lines\n",
      "    pieces = self.included_pieces\n",
      "             ^^^^^^^^^^^^^^^^^^^^\n",
      "  File \"C:\\Users\\ftx20\\anaconda3\\Lib\\site-packages\\stack_data\\utils.py\", line 145, in cached_property_wrapper\n",
      "    value = obj.__dict__[self.func.__name__] = self.func(obj)\n",
      "                                               ^^^^^^^^^^^^^^\n",
      "  File \"C:\\Users\\ftx20\\anaconda3\\Lib\\site-packages\\stack_data\\core.py\", line 649, in included_pieces\n",
      "    pos = scope_pieces.index(self.executing_piece)\n",
      "                             ^^^^^^^^^^^^^^^^^^^^\n",
      "  File \"C:\\Users\\ftx20\\anaconda3\\Lib\\site-packages\\stack_data\\utils.py\", line 145, in cached_property_wrapper\n",
      "    value = obj.__dict__[self.func.__name__] = self.func(obj)\n",
      "                                               ^^^^^^^^^^^^^^\n",
      "  File \"C:\\Users\\ftx20\\anaconda3\\Lib\\site-packages\\stack_data\\core.py\", line 628, in executing_piece\n",
      "    return only(\n",
      "           ^^^^^\n",
      "  File \"C:\\Users\\ftx20\\anaconda3\\Lib\\site-packages\\executing\\executing.py\", line 164, in only\n",
      "    raise NotOneValueFound('Expected one value, found 0')\n",
      "executing.executing.NotOneValueFound: Expected one value, found 0\n"
     ]
    }
   ],
   "source": [
    "n=10\n",
    "while True:\n",
    "    trinomial_tree = TrinomialTree(S=56, K=60, T=8/12, sigma=0.3, r=0.045, q=0.015, N=n, is_call=False, is_eu=False)\n",
    "    trinomial_tree.simulate_tree()\n",
    "    n=n*2\n",
    "    print(n,trinomial_tree.price())"
   ]
  },
  {
   "cell_type": "code",
   "execution_count": 59,
   "id": "073f8ae4",
   "metadata": {},
   "outputs": [
    {
     "name": "stdout",
     "output_type": "stream",
     "text": [
      "sigma = 0.2700, Approximated price = 6.70115784977361\n",
      "sigma = 0.2843, Approximated price = 6.953132612923576\n",
      "sigma = 0.2841, Approximated price = 6.949990512614288\n",
      "sigma = 0.2841, Approximated price = 6.949999999915223\n",
      "Implied volatility: 28.41%\n"
     ]
    }
   ],
   "source": [
    "# Secant Method for implied volatility\n",
    "S=56\n",
    "K=60\n",
    "T=8/12\n",
    "r=0.045\n",
    "q=0.015\n",
    "N_fixed=2560\n",
    "sigma_prev, sigma = 0.25 - 0.02, 0.25 + 0.02\n",
    "tol = 1e-4\n",
    "while True:\n",
    "    trinomial_tree=TrinomialTree(S, K, T, sigma, r, q, N_fixed,False,False)\n",
    "    trinomial_tree.simulate_tree()\n",
    "    f_sigma = trinomial_tree.price() - target_price\n",
    "    \n",
    "    trinomial_tree_prev=TrinomialTree(S, K, T, sigma_prev, r, q, N_fixed,False,False)\n",
    "    trinomial_tree_prev.simulate_tree()\n",
    "    f_sigma_prev = trinomial_tree_prev.price() - target_price\n",
    "    sigma_new = sigma - f_sigma * ((sigma - sigma_prev) / (f_sigma - f_sigma_prev))\n",
    "        \n",
    "    print(f\"sigma = {sigma:.4f}, Approximated price = {f_sigma + target_price}\")\n",
    "        \n",
    "    if abs(sigma - sigma_prev) < tol:\n",
    "         break\n",
    "        \n",
    "    sigma_prev, sigma = sigma, sigma_new\n",
    "\n",
    "print(f\"Implied volatility: {sigma_new:.2%}\")"
   ]
  },
  {
   "cell_type": "code",
   "execution_count": 60,
   "id": "b7db138a",
   "metadata": {},
   "outputs": [
    {
     "data": {
      "text/plain": [
       "2.4045954505513114"
      ]
     },
     "execution_count": 60,
     "metadata": {},
     "output_type": "execute_result"
    }
   ],
   "source": [
    "from math import exp, log, sqrt, pi\n",
    "\n",
    "def approximate_implied_volatility_with_table3(C_m, K, T, F, r):\n",
    "    \"\"\"\n",
    "    Approximate the implied volatility of a call option using formulas from Table 3.\n",
    "\n",
    "    Parameters:\n",
    "    C_m (float) : Market price of the call option\n",
    "    K (float) : Strike price of the option\n",
    "    T (float) : Time to maturity of the option\n",
    "    F (float) : Forward price of the underlying asset at time T\n",
    "    r (float) : Constant interest rate\n",
    "\n",
    "    Returns:\n",
    "    float : Approximate implied volatility\n",
    "    \"\"\"\n",
    "    y = log(F / K)\n",
    "    alpha_C = C_m / (K * exp(-r * T))\n",
    "    R = 2 * alpha_C - exp(y) + 1\n",
    "\n",
    "    # Compute A, B, C from Table 3\n",
    "    A = (exp((1 - 2/pi) * y) - exp(-(1 - 2/pi) * y)) ** 2\n",
    "    B = 4 * (exp(2/pi * y) + exp(-2/pi * y)) - 2 * exp(-y) * (exp((1 - 2/pi) * y) + exp(-(1 - 2/pi) * y)) * (exp(2 * y) + 1 - R ** 2)\n",
    "    C = exp(-2 * y) * (R ** 2 - (exp(y) - 1) ** 2) * ((exp(y) + 1) ** 2 - R ** 2)\n",
    "\n",
    "    beta = 2 * C / (B + sqrt(B ** 2 + 4 * A * C))\n",
    "    gamma = -(pi / 2) * log(beta)\n",
    "\n",
    "    if y >= 0:\n",
    "        C_0 = K * exp(-r * T) * (exp(y) * A * sqrt(2 * y) - 0.5)\n",
    "\n",
    "        if C_m <= C_0:\n",
    "            sigma = (1 / sqrt(T)) * (sqrt(gamma + y) - sqrt(gamma - y))\n",
    "        else:\n",
    "            sigma = (1 / sqrt(T)) * (sqrt(gamma + y) + sqrt(gamma - y))\n",
    "    else:\n",
    "        C_0 = K * exp(-r * T) * (exp(y) / 2 - A * (-sqrt(-2 * y)))\n",
    "\n",
    "        if C_m <= C_0:\n",
    "            sigma = (1 / sqrt(T)) * (-sqrt(gamma + y) + sqrt(gamma - y))\n",
    "        else:\n",
    "            sigma = (1 / sqrt(T)) * (sqrt(gamma + y) + sqrt(gamma - y))\n",
    "\n",
    "    return sigma\n",
    "\n",
    "# Example usage\n",
    "approximate_implied_volatility_with_table3(C_m=10, K=100, T=1, F=110, r=0.05)\n"
   ]
  },
  {
   "cell_type": "code",
   "execution_count": 62,
   "id": "68756ef9",
   "metadata": {},
   "outputs": [
    {
     "data": {
      "text/plain": [
       "57.13127504149833"
      ]
     },
     "execution_count": 62,
     "metadata": {},
     "output_type": "execute_result"
    }
   ],
   "source": [
    "F=S*math.exp((r-q)*T)"
   ]
  },
  {
   "cell_type": "code",
   "execution_count": 78,
   "id": "68bd7974",
   "metadata": {},
   "outputs": [
    {
     "data": {
      "text/plain": [
       "0.29458765639080964"
      ]
     },
     "execution_count": 78,
     "metadata": {},
     "output_type": "execute_result"
    }
   ],
   "source": [
    "from math import exp, log, sqrt, pi\n",
    "\n",
    "def approximate_implied_volatility_put(P_m, K, T, F, r):\n",
    "    \"\"\"\n",
    "    Approximate the implied volatility of a put option using formulas similar to Table 3.\n",
    "\n",
    "    Parameters:\n",
    "    P_m (float) : Market price of the put option\n",
    "    K (float) : Strike price of the option\n",
    "    T (float) : Time to maturity of the option\n",
    "    F (float) : Forward price of the underlying asset at time T\n",
    "    r (float) : Constant interest rate\n",
    "\n",
    "    Returns:\n",
    "    float : Approximate implied volatility\n",
    "    \"\"\"\n",
    "    y = log(F / K)\n",
    "    alpha_P = P_m / (K * exp(-r * T))\n",
    "    R = 2 * alpha_P + exp(y) - 1\n",
    "\n",
    "    # Compute A, B, C similar to Table 3\n",
    "    A = (exp((1 - 2/pi) * y) - exp(-(1 - 2/pi) * y)) ** 2\n",
    "    B = 4 * (exp(2/pi * y) + exp(-2/pi * y)) - 2 * exp(-y) * (exp((1 - 2/pi) * y) + exp(-(1 - 2/pi) * y)) * (exp(2 * y) + 1 - R ** 2)\n",
    "    C = exp(-2 * y) * (R ** 2 - (exp(y) - 1) ** 2) * ((exp(y) + 1) ** 2 - R ** 2)\n",
    "\n",
    "    beta = 2 * C / (B + sqrt(B ** 2 + 4 * A * C))\n",
    "    gamma = -(pi / 2) * log(beta)\n",
    "\n",
    "    if y >= 0:\n",
    "        P_0 = K * exp(-r * T) * (0.5 - exp(y) * A * (-sqrt(2 * y)))\n",
    "\n",
    "        if P_m <= P_0:\n",
    "            sigma = (1 / sqrt(T)) * (sqrt(gamma + y) - sqrt(gamma - y))\n",
    "        else:\n",
    "            sigma = (1 / sqrt(T)) * (sqrt(gamma + y) + sqrt(gamma - y))\n",
    "    else:\n",
    "        P_0 = K * exp(-r * T) * (A * sqrt(-2 * y) - exp(y) / 2)\n",
    "\n",
    "        if P_m <= P_0:\n",
    "            sigma = (1 / sqrt(T)) * (sqrt(gamma + y) + sqrt(gamma - y))\n",
    "        else:\n",
    "            sigma = (1 / sqrt(T)) * (-sqrt(gamma + y) + sqrt(gamma - y))\n",
    "\n",
    "    return sigma\n",
    "\n",
    "\n",
    "\n",
    "\n"
   ]
  },
  {
   "cell_type": "code",
   "execution_count": 81,
   "id": "d3604d0f",
   "metadata": {},
   "outputs": [
    {
     "name": "stdout",
     "output_type": "stream",
     "text": [
      "sigma = 0.3146, Approximated price = 7.4909608567632775\n",
      "sigma = 0.2841, Approximated price = 6.949698376689255\n",
      "sigma = 0.2841, Approximated price = 6.949999407223503\n",
      "Implied volatility: 28.41%\n"
     ]
    }
   ],
   "source": [
    "stefanica_radoicic=approximate_implied_volatility_put(6.95,K,T,F,r)\n",
    "sigma_prev, sigma = stefanica_radoicic - 0.02,stefanica_radoicic + 0.02\n",
    "N_fixed=2560\n",
    "tol = 1e-4\n",
    "while True:\n",
    "    trinomial_tree=TrinomialTree(S, K, T, sigma, r, q, N_fixed,False,False)\n",
    "    trinomial_tree.simulate_tree()\n",
    "    f_sigma = trinomial_tree.price() - target_price\n",
    "    \n",
    "    trinomial_tree_prev=TrinomialTree(S, K, T, sigma_prev, r, q, N_fixed,False,False)\n",
    "    trinomial_tree_prev.simulate_tree()\n",
    "    f_sigma_prev = trinomial_tree_prev.price() - target_price\n",
    "    sigma_new = sigma - f_sigma * ((sigma - sigma_prev) / (f_sigma - f_sigma_prev))\n",
    "        \n",
    "    print(f\"sigma = {sigma:.4f}, Approximated price = {f_sigma + target_price}\")\n",
    "        \n",
    "    if abs(sigma - sigma_prev) < tol:\n",
    "         break\n",
    "        \n",
    "    sigma_prev, sigma = sigma, sigma_new\n",
    "\n",
    "print(f\"Implied volatility: {sigma_new:.2%}\")"
   ]
  },
  {
   "cell_type": "code",
   "execution_count": 82,
   "id": "06b322f1",
   "metadata": {},
   "outputs": [
    {
     "data": {
      "text/plain": [
       "6.781693741616774"
      ]
     },
     "execution_count": 82,
     "metadata": {},
     "output_type": "execute_result"
    }
   ],
   "source": [
    "sigma=stefanica_radoicic - 0.02\n",
    "trinomial_tree=TrinomialTree(S, K, T, sigma, r, q, N_fixed,False,False)\n",
    "trinomial_tree.simulate_tree()\n",
    "trinomial_tree.price()"
   ]
  },
  {
   "cell_type": "code",
   "execution_count": null,
   "id": "5cc70183",
   "metadata": {},
   "outputs": [],
   "source": []
  }
 ],
 "metadata": {
  "kernelspec": {
   "display_name": "Python 3 (ipykernel)",
   "language": "python",
   "name": "python3"
  },
  "language_info": {
   "codemirror_mode": {
    "name": "ipython",
    "version": 3
   },
   "file_extension": ".py",
   "mimetype": "text/x-python",
   "name": "python",
   "nbconvert_exporter": "python",
   "pygments_lexer": "ipython3",
   "version": "3.11.4"
  }
 },
 "nbformat": 4,
 "nbformat_minor": 5
}
